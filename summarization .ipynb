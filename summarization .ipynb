{
 "cells": [
  {
   "cell_type": "code",
   "execution_count": null,
   "id": "cb9d1137-d508-4002-ad29-92bfbbcd3b33",
   "metadata": {},
   "outputs": [],
   "source": [
    "import docx2txt\n",
    "import fitz  # PyMuPDF\n",
    "\n",
    "def summarize_word_document(docx_path, ratio=0.2):\n",
    "    try:\n",
    "        text = docx2txt.process(docx_path)\n",
    "        summary = text[:int(len(text) * ratio)]\n",
    "        return summary\n",
    "    except Exception as e:\n",
    "        print(f\"Error reading Word document: {e}\")\n",
    "        return None\n",
    "\n",
    "def summarize_pdf(pdf_path, ratio=0.2):\n",
    "    try:\n",
    "        doc = fitz.open(pdf_path)\n",
    "        text = \"\"\n",
    "        for page_num in range(doc.page_count):\n",
    "            page = doc[page_num]\n",
    "            text += page.get_text()\n",
    "\n",
    "        summary = text[:int(len(text) * ratio)]\n",
    "        return summary\n",
    "    except Exception as e:\n",
    "        print(f\"Error reading PDF document: {e}\")\n",
    "        return None\n",
    "\n",
    "if _name_ == \"_main_\":\n",
    "    # Specify the path to your Word document or PDF\n",
    "    document_path = \"os module 3.pdf\"  # or \"your_document.pdf\"\n",
    "\n",
    "    if document_path.endswith(\".docx\"):\n",
    "        summary = summarize_word_document(document_path)\n",
    "    elif document_path.endswith(\".pdf\"):\n",
    "        summary = summarize_pdf(document_path)\n",
    "    else:\n",
    "        print(\"Unsupported document format.\")\n",
    "        summary = None\n",
    "\n",
    "    if summary:\n",
    "        print(\"Summary:\\n\", summary)"
   ]
  }
 ],
 "metadata": {
  "kernelspec": {
   "display_name": "Python 3 (ipykernel)",
   "language": "python",
   "name": "python3"
  },
  "language_info": {
   "codemirror_mode": {
    "name": "ipython",
    "version": 3
   },
   "file_extension": ".py",
   "mimetype": "text/x-python",
   "name": "python",
   "nbconvert_exporter": "python",
   "pygments_lexer": "ipython3",
   "version": "3.11.5"
  }
 },
 "nbformat": 4,
 "nbformat_minor": 5
}
